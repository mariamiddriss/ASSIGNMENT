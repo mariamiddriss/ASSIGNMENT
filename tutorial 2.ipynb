{
 "cells": [
  {
   "cell_type": "code",
   "execution_count": 1,
   "id": "4a603052",
   "metadata": {},
   "outputs": [
    {
     "name": "stdout",
     "output_type": "stream",
     "text": [
      "hello world\n"
     ]
    }
   ],
   "source": [
    "print('hello world')"
   ]
  },
  {
   "cell_type": "code",
   "execution_count": 3,
   "id": "de5f6007",
   "metadata": {},
   "outputs": [],
   "source": [
    "a='hello world'"
   ]
  },
  {
   "cell_type": "code",
   "execution_count": 4,
   "id": "8fde397f",
   "metadata": {},
   "outputs": [
    {
     "name": "stdout",
     "output_type": "stream",
     "text": [
      "hello world\n"
     ]
    }
   ],
   "source": [
    "print(a)"
   ]
  },
  {
   "cell_type": "code",
   "execution_count": 5,
   "id": "d85f04dc",
   "metadata": {},
   "outputs": [
    {
     "name": "stdout",
     "output_type": "stream",
     "text": [
      "hello world dividehello world\n"
     ]
    }
   ],
   "source": [
    "print(a,a,sep=' divide')"
   ]
  },
  {
   "cell_type": "code",
   "execution_count": 10,
   "id": "473bbcdb",
   "metadata": {},
   "outputs": [
    {
     "data": {
      "text/plain": [
       "38"
      ]
     },
     "execution_count": 10,
     "metadata": {},
     "output_type": "execute_result"
    }
   ],
   "source": [
    "len(\"hello Malatya, what's happening there?\")"
   ]
  },
  {
   "cell_type": "code",
   "execution_count": 11,
   "id": "bd905ddc",
   "metadata": {},
   "outputs": [
    {
     "data": {
      "text/plain": [
       "int"
      ]
     },
     "execution_count": 11,
     "metadata": {},
     "output_type": "execute_result"
    }
   ],
   "source": [
    "type(2)"
   ]
  },
  {
   "cell_type": "code",
   "execution_count": 12,
   "id": "0caa1fca",
   "metadata": {},
   "outputs": [],
   "source": [
    "a= \"StrIng Size Converting\""
   ]
  },
  {
   "cell_type": "code",
   "execution_count": 13,
   "id": "de86003c",
   "metadata": {},
   "outputs": [
    {
     "data": {
      "text/plain": [
       "'STRING SIZE CONVERTING'"
      ]
     },
     "execution_count": 13,
     "metadata": {},
     "output_type": "execute_result"
    }
   ],
   "source": [
    "a.upper()"
   ]
  },
  {
   "cell_type": "code",
   "execution_count": 14,
   "id": "8f35adbc",
   "metadata": {},
   "outputs": [
    {
     "data": {
      "text/plain": [
       "'string size converting'"
      ]
     },
     "execution_count": 14,
     "metadata": {},
     "output_type": "execute_result"
    }
   ],
   "source": [
    "a.lower()"
   ]
  },
  {
   "cell_type": "code",
   "execution_count": 15,
   "id": "c655489d",
   "metadata": {},
   "outputs": [
    {
     "data": {
      "text/plain": [
       "'CtrIng Cize Converting'"
      ]
     },
     "execution_count": 15,
     "metadata": {},
     "output_type": "execute_result"
    }
   ],
   "source": [
    "a.replace(\"S\",\"C\")"
   ]
  },
  {
   "cell_type": "code",
   "execution_count": 16,
   "id": "9a32704d",
   "metadata": {},
   "outputs": [],
   "source": [
    "b= \"     we will see strip method      \""
   ]
  },
  {
   "cell_type": "code",
   "execution_count": 17,
   "id": "6d2334c3",
   "metadata": {},
   "outputs": [
    {
     "data": {
      "text/plain": [
       "'we will see strip method'"
      ]
     },
     "execution_count": 17,
     "metadata": {},
     "output_type": "execute_result"
    }
   ],
   "source": [
    "b.strip() # note; strip removes spacing from a sentence"
   ]
  },
  {
   "cell_type": "code",
   "execution_count": 18,
   "id": "98fcd0a3",
   "metadata": {},
   "outputs": [],
   "source": [
    "c=\"***we will see strip method************\""
   ]
  },
  {
   "cell_type": "code",
   "execution_count": 19,
   "id": "fadf5473",
   "metadata": {},
   "outputs": [
    {
     "data": {
      "text/plain": [
       "'we will see strip method'"
      ]
     },
     "execution_count": 19,
     "metadata": {},
     "output_type": "execute_result"
    }
   ],
   "source": [
    "c.strip(\"*\")"
   ]
  },
  {
   "cell_type": "code",
   "execution_count": 20,
   "id": "880dc67b",
   "metadata": {},
   "outputs": [],
   "source": [
    "d=\"make a title\""
   ]
  },
  {
   "cell_type": "code",
   "execution_count": 21,
   "id": "acbeb75a",
   "metadata": {},
   "outputs": [
    {
     "data": {
      "text/plain": [
       "'Make a title'"
      ]
     },
     "execution_count": 21,
     "metadata": {},
     "output_type": "execute_result"
    }
   ],
   "source": [
    "d.capitalize()"
   ]
  },
  {
   "cell_type": "code",
   "execution_count": 22,
   "id": "b8e0c76d",
   "metadata": {},
   "outputs": [
    {
     "data": {
      "text/plain": [
       "'Make A Title'"
      ]
     },
     "execution_count": 22,
     "metadata": {},
     "output_type": "execute_result"
    }
   ],
   "source": [
    "d.title()"
   ]
  },
  {
   "cell_type": "code",
   "execution_count": 23,
   "id": "2f9c8f5c",
   "metadata": {},
   "outputs": [],
   "source": [
    "string=\"look at the table\""
   ]
  },
  {
   "cell_type": "code",
   "execution_count": 24,
   "id": "fcb9172a",
   "metadata": {},
   "outputs": [
    {
     "data": {
      "text/plain": [
       "['__add__',\n",
       " '__class__',\n",
       " '__contains__',\n",
       " '__delattr__',\n",
       " '__dir__',\n",
       " '__doc__',\n",
       " '__eq__',\n",
       " '__format__',\n",
       " '__ge__',\n",
       " '__getattribute__',\n",
       " '__getitem__',\n",
       " '__getnewargs__',\n",
       " '__gt__',\n",
       " '__hash__',\n",
       " '__init__',\n",
       " '__init_subclass__',\n",
       " '__iter__',\n",
       " '__le__',\n",
       " '__len__',\n",
       " '__lt__',\n",
       " '__mod__',\n",
       " '__mul__',\n",
       " '__ne__',\n",
       " '__new__',\n",
       " '__reduce__',\n",
       " '__reduce_ex__',\n",
       " '__repr__',\n",
       " '__rmod__',\n",
       " '__rmul__',\n",
       " '__setattr__',\n",
       " '__sizeof__',\n",
       " '__str__',\n",
       " '__subclasshook__',\n",
       " 'capitalize',\n",
       " 'casefold',\n",
       " 'center',\n",
       " 'count',\n",
       " 'encode',\n",
       " 'endswith',\n",
       " 'expandtabs',\n",
       " 'find',\n",
       " 'format',\n",
       " 'format_map',\n",
       " 'index',\n",
       " 'isalnum',\n",
       " 'isalpha',\n",
       " 'isascii',\n",
       " 'isdecimal',\n",
       " 'isdigit',\n",
       " 'isidentifier',\n",
       " 'islower',\n",
       " 'isnumeric',\n",
       " 'isprintable',\n",
       " 'isspace',\n",
       " 'istitle',\n",
       " 'isupper',\n",
       " 'join',\n",
       " 'ljust',\n",
       " 'lower',\n",
       " 'lstrip',\n",
       " 'maketrans',\n",
       " 'partition',\n",
       " 'removeprefix',\n",
       " 'removesuffix',\n",
       " 'replace',\n",
       " 'rfind',\n",
       " 'rindex',\n",
       " 'rjust',\n",
       " 'rpartition',\n",
       " 'rsplit',\n",
       " 'rstrip',\n",
       " 'split',\n",
       " 'splitlines',\n",
       " 'startswith',\n",
       " 'strip',\n",
       " 'swapcase',\n",
       " 'title',\n",
       " 'translate',\n",
       " 'upper',\n",
       " 'zfill']"
      ]
     },
     "execution_count": 24,
     "metadata": {},
     "output_type": "execute_result"
    }
   ],
   "source": [
    "dir(string)"
   ]
  },
  {
   "cell_type": "code",
   "execution_count": 25,
   "id": "68b01cd2",
   "metadata": {},
   "outputs": [],
   "source": [
    "sub= \"how are you\""
   ]
  },
  {
   "cell_type": "code",
   "execution_count": 26,
   "id": "8d675e87",
   "metadata": {},
   "outputs": [
    {
     "data": {
      "text/plain": [
       "'h'"
      ]
     },
     "execution_count": 26,
     "metadata": {},
     "output_type": "execute_result"
    }
   ],
   "source": [
    "sub[0]"
   ]
  },
  {
   "cell_type": "code",
   "execution_count": 27,
   "id": "1d28b2a2",
   "metadata": {},
   "outputs": [
    {
     "data": {
      "text/plain": [
       "'a'"
      ]
     },
     "execution_count": 27,
     "metadata": {},
     "output_type": "execute_result"
    }
   ],
   "source": [
    "sub[4]"
   ]
  },
  {
   "cell_type": "code",
   "execution_count": 28,
   "id": "e0874712",
   "metadata": {},
   "outputs": [
    {
     "data": {
      "text/plain": [
       "'are'"
      ]
     },
     "execution_count": 28,
     "metadata": {},
     "output_type": "execute_result"
    }
   ],
   "source": [
    "sub[4:7]"
   ]
  },
  {
   "cell_type": "code",
   "execution_count": 29,
   "id": "57eb4722",
   "metadata": {},
   "outputs": [
    {
     "data": {
      "text/plain": [
       "'e you'"
      ]
     },
     "execution_count": 29,
     "metadata": {},
     "output_type": "execute_result"
    }
   ],
   "source": [
    "sub[6:]"
   ]
  },
  {
   "cell_type": "code",
   "execution_count": 30,
   "id": "ec4f1fa9",
   "metadata": {},
   "outputs": [
    {
     "data": {
      "text/plain": [
       "'how '"
      ]
     },
     "execution_count": 30,
     "metadata": {},
     "output_type": "execute_result"
    }
   ],
   "source": [
    "sub[ :4]"
   ]
  },
  {
   "cell_type": "code",
   "execution_count": 32,
   "id": "2c2ca1d8",
   "metadata": {},
   "outputs": [
    {
     "name": "stdout",
     "output_type": "stream",
     "text": [
      "2\n"
     ]
    }
   ],
   "source": [
    "num_1= input()"
   ]
  },
  {
   "cell_type": "code",
   "execution_count": 34,
   "id": "f6d28ddf",
   "metadata": {},
   "outputs": [
    {
     "name": "stdout",
     "output_type": "stream",
     "text": [
      "4\n"
     ]
    }
   ],
   "source": [
    "num_2= input()"
   ]
  },
  {
   "cell_type": "code",
   "execution_count": null,
   "id": "6521d419",
   "metadata": {},
   "outputs": [],
   "source": []
  }
 ],
 "metadata": {
  "kernelspec": {
   "display_name": "Python 3 (ipykernel)",
   "language": "python",
   "name": "python3"
  },
  "language_info": {
   "codemirror_mode": {
    "name": "ipython",
    "version": 3
   },
   "file_extension": ".py",
   "mimetype": "text/x-python",
   "name": "python",
   "nbconvert_exporter": "python",
   "pygments_lexer": "ipython3",
   "version": "3.9.12"
  }
 },
 "nbformat": 4,
 "nbformat_minor": 5
}
